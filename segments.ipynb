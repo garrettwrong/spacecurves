{
  "nbformat": 4,
  "nbformat_minor": 0,
  "metadata": {
    "colab": {
      "name": "segments.ipynb",
      "provenance": [],
      "authorship_tag": "ABX9TyNfpGoukSevvlZB74PmSKeT",
      "include_colab_link": true
    },
    "kernelspec": {
      "name": "python3",
      "display_name": "Python 3"
    },
    "language_info": {
      "name": "python"
    }
  },
  "cells": [
    {
      "cell_type": "markdown",
      "metadata": {
        "id": "view-in-github",
        "colab_type": "text"
      },
      "source": [
        "<a href=\"https://colab.research.google.com/github/igorrivin/spacecurves/blob/main/segments.ipynb\" target=\"_parent\"><img src=\"https://colab.research.google.com/assets/colab-badge.svg\" alt=\"Open In Colab\"/></a>"
      ]
    },
    {
      "cell_type": "code",
      "metadata": {
        "id": "o47yx5O5tXzn"
      },
      "source": [
        "import numpy as np\n",
        "import cmath"
      ],
      "execution_count": null,
      "outputs": []
    },
    {
      "cell_type": "code",
      "metadata": {
        "id": "SGJXueE-v5k-"
      },
      "source": [
        "from sortedcontainers import SortedKeyList\n",
        "from itertools import cycle"
      ],
      "execution_count": null,
      "outputs": []
    },
    {
      "cell_type": "code",
      "metadata": {
        "id": "-qlG09IwH4Rc"
      },
      "source": [
        "def rank_two(v0, r, s):\n",
        "  v0c = complex(v0[0], v0[1])\n",
        "  rc = complex(r[0], r[1])\n",
        "  sc = complex(s[0], s[1])\n",
        "  pr = cmath.phase(rc/v0c)\n",
        "  if pr > 0:\n",
        "    return [1, 3]\n",
        "  return [3, 1]"
      ],
      "execution_count": null,
      "outputs": []
    },
    {
      "cell_type": "code",
      "metadata": {
        "id": "J-KCAVWYtfa5"
      },
      "source": [
        "class Segment:\n",
        "  def __init__(self, beg, end):\n",
        "    self.beg = beg\n",
        "    self.end = end\n",
        "    self.vec = end - beg\n",
        "    self.crossings = SortedKeyList(key=self.get_val)\n",
        "\n",
        "  def get_val(self, crossing):\n",
        "    if crossing.seg1 == self:\n",
        "      return crossing.t1\n",
        "    return crossing.t2\n",
        "\n",
        "  def length(self):\n",
        "    return np.linalg.norm(self.vec)\n",
        "\n",
        "  def project(self, mat):\n",
        "    newbeg = mat @ beg\n",
        "    newend = mat @ end\n",
        "    return Segment(newbeg, newend)\n",
        "\n",
        "  def traverse(self, beg):\n",
        "    if len(self.crossings) == 0:\n",
        "      return beg\n",
        "    for i, c in enumerate(self.crossings, beg):\n",
        "      c.DTcode = i\n",
        "    return beg + len(self.crossings)\n",
        "\n",
        "  def __repr__(self):\n",
        "    return str(self.beg) + \" \" + str(self.end)\n"
      ],
      "execution_count": null,
      "outputs": []
    },
    {
      "cell_type": "code",
      "metadata": {
        "id": "avX3B7Oet7GH"
      },
      "source": [
        "def intersections(seg1, seg2):\n",
        "  if seg1 == seg2:\n",
        "    return None\n",
        "  if np.array_equal(seg1.beg, seg2.end) or np.array_equal(seg2.beg, seg1.end):\n",
        "    return None\n",
        "  p = seg1.beg[0:2]\n",
        "  r = seg1.vec[0:2]\n",
        "  q = seg2.beg[0:2]\n",
        "  s = seg2.vec[0:2]\n",
        "  diff1 = q - p\n",
        "  cross1 = np.linalg.det(np.vstack((diff1, s)))\n",
        "  cross2 = np.linalg.det(np.vstack((r, s)))\n",
        "  cross3 = np.linalg.det(np.vstack((diff1, r)))\n",
        "  if cross2 == 0 and cross3 == 0:\n",
        "    raise Exception('collinear')\n",
        "  if cross2 == 0:\n",
        "    return None\n",
        "  t = cross1 / cross2\n",
        "  if t < 0 or t > 1:\n",
        "    return None\n",
        "  u = cross3/cross2\n",
        "  if u < 0 or u > 1:\n",
        "    return None\n",
        "  return t, u\n",
        "    \n"
      ],
      "execution_count": null,
      "outputs": []
    },
    {
      "cell_type": "markdown",
      "metadata": {
        "id": "Rx8f2wqABOyo"
      },
      "source": [
        ""
      ]
    },
    {
      "cell_type": "code",
      "metadata": {
        "id": "nf0rljvPxcIj"
      },
      "source": [
        "class Crossing:\n",
        "  def are_same(c1, c2):\n",
        "    return c1.seg1 == c2.seg2 and c1.seg2 == c2.seg1\n",
        "\n",
        "  def __init__(self, seg1, seg2, ind1=0, ind2=0, comp1=0, comp2=0):\n",
        "    self.seg1 = seg1\n",
        "    self.seg2 = seg2\n",
        "    self.ind1 = ind1\n",
        "    self.ind2 = ind2\n",
        "    self.comp1 = comp1\n",
        "    self.comp2 = comp2\n",
        "    inter = intersections(seg1, seg2)\n",
        "    if inter is None:\n",
        "      self.over = None\n",
        "      return\n",
        "    #print(seg1, seg2, inter)\n",
        "    a = inter[0]\n",
        "    b = inter[1]\n",
        "    z1 = (seg1.beg + a * seg1.vec)[2]\n",
        "    z2 = (seg2.beg + b * seg2.vec)[2]\n",
        "    if z1 == z2:\n",
        "      raise Exception('not embedded, seg1 was {0}, seg2 was {1}'.format(seg1, seg2))\n",
        "    self.t1 = a\n",
        "    self.t2 = b\n",
        "    seg1.crossings.add(self)\n",
        "    #seg2.crossings.add(self)\n",
        "    if z1 > z2:\n",
        "      self.over = True\n",
        "    else:\n",
        "      self.over = False\n",
        "    self.cyclic_order = self.cyclic_o()\n",
        "    self.DTcode = None\n",
        "    self.thehash = self.get_hash()\n",
        "    \n",
        "  def cyclic_o(self):\n",
        "    c_dict = {}\n",
        "    def get_c_dict(s1, s2):\n",
        "      c_dict = {}\n",
        "      c_dict[0] = (s1, \"beg\")\n",
        "      c_dict[2] = (s1, \"end\")\n",
        "      r = rank_two(s1.beg, s2.beg, s2.end)\n",
        "      if r[0] == 1:\n",
        "        c_dict[1] = (s2, \"beg\")\n",
        "        c_dict[3] = (s2, \"end\")\n",
        "      else:\n",
        "        c_dict[1] = (s2, \"end\")\n",
        "        c_dict[3] = (s2, \"beg\")\n",
        "      return c_dict\n",
        "    if self.over is False:\n",
        "      return get_c_dict(self.seg1, self.seg2)\n",
        "    else:\n",
        "      return get_c_dict(self.seg2, self.seg1)\n",
        "\n",
        "  def get_hash(self):\n",
        "    h1 = hash(self.seg1)\n",
        "    h2 = hash(self.seg2)\n",
        "    if h1 < h2:\n",
        "      return hash((self.seg1, self.seg2))\n",
        "    return hash((self.seg2, self.seg1))\n",
        "\n",
        "\n",
        "    "
      ],
      "execution_count": null,
      "outputs": []
    },
    {
      "cell_type": "code",
      "metadata": {
        "id": "BqIWyUAX0Vd5"
      },
      "source": [
        "class PLCurve:\n",
        "  def __init__(self, pointlist, isClosed):\n",
        "    self.pointlist = pointlist\n",
        "    ll = len(self.pointlist)\n",
        "    preseglist = [Segment(pointlist[i], pointlist[i+1])for i in range(ll-1)]\n",
        "    if isClosed is False:\n",
        "      self.seglist = preseglist\n",
        "    else:\n",
        "      preseglist.append(Segment(pointlist[ll-1], pointlist[0]))\n",
        "      self.seglist = preseglist\n",
        "\n",
        "  def length(self):\n",
        "    return sum([x.length() for x in seglist])\n",
        "  \n",
        "  def DTtraverse(self, beg):\n",
        "    newbeg = beg\n",
        "    for seg in self.seglist:\n",
        "      newbeg = seg.traverse(newbeg)\n",
        "    return newbeg\n",
        "\n",
        "\n",
        "\n",
        "  \n"
      ],
      "execution_count": null,
      "outputs": []
    },
    {
      "cell_type": "code",
      "metadata": {
        "id": "S-Pge2Ru2s-x"
      },
      "source": [
        "class Link:\n",
        "  def __init__(self, curvelist):\n",
        "    self.curvelist = curvelist\n",
        "    self.crossings = []\n",
        "    self.makeAllCrossings()\n",
        "    beg = 1\n",
        "    for c in self.curvelist:\n",
        "      beg  = c.DTtraverse(beg)\n",
        "    self.crossings.sort(key=lambda x: x.thehash)\n",
        "    self.DTcode = dtCode(self.crossings)\n",
        "\n",
        "  def makeCrossings(self, curve1, curve2, comp1, comp2):\n",
        "    for i, seg1 in enumerate(curve1.seglist):\n",
        "      for j, seg2 in enumerate(curve2.seglist):\n",
        "        newcross = Crossing(seg1, seg2, i, j, comp1, comp2)\n",
        "        if newcross.over is not None:\n",
        "          self.crossings.append(newcross)\n",
        "      #return sorted(crossings, key = lambda x: x.thehash) not quite right\n",
        "\n",
        "  def makeAllCrossings(self):\n",
        "    for i, c in enumerate(self.curvelist):\n",
        "      for j, d in enumerate(self.curvelist):\n",
        "        self.makeCrossings(c, d, i, j)\n",
        "    \n"
      ],
      "execution_count": null,
      "outputs": []
    },
    {
      "cell_type": "code",
      "metadata": {
        "id": "ebvhsy_hIGQV"
      },
      "source": [
        "def dtCode(crossings):\n",
        "  def dtpair(c1, c2):\n",
        "    code1 = c1.DTcode\n",
        "    code2 = c2.DTcode\n",
        "    if code1%2 == code2%2:\n",
        "      raise Exception(\"Goofy crossings\")\n",
        "    if code1%2 == 0:\n",
        "      thecode = code1\n",
        "      othercode = code2\n",
        "      cc = c1\n",
        "    else:\n",
        "      thecode = code2\n",
        "      othercode = code1\n",
        "      cc = c2\n",
        "    if cc.over is True:\n",
        "      return (othercode, -thecode)\n",
        "    else:\n",
        "      return (othercode, thecode)\n",
        "  codelist = []\n",
        "  for i in range(0, len(crossings), 2):\n",
        "    codelist.append(dtpair(crossings[i], crossings[i+1]))\n",
        "  return [x[1] for x in sorted(codelist)]"
      ],
      "execution_count": null,
      "outputs": []
    },
    {
      "cell_type": "code",
      "metadata": {
        "id": "7ZasnW4fIw8I"
      },
      "source": [
        "def randfunc(stepsize, ll, decayfunc):\n",
        "  sigmas = np.array(list(map(decayfunc, range(ll))))\n",
        "  sincoeffs0 = np.random.randn(ll)\n",
        "  sincoeffs = sincoeffs0 * sigmas\n",
        "  coscoeffs0 = np.random.randn(ll)\n",
        "  coscoeffs = coscoeffs0 * sigmas\n",
        "  def rf(x):\n",
        "    sinpoly = 0\n",
        "    cospoly = 0\n",
        "    for i in range(ll):\n",
        "      sinpoly += sincoeffs[i] * np.sin(i * x)\n",
        "      cospoly += coscoeffs[i] * np.cos(i * x)\n",
        "    return sinpoly + cospoly\n",
        "  return np.array(list(map(rf, np.arange(0, 2*np.pi, stepsize))))"
      ],
      "execution_count": null,
      "outputs": []
    },
    {
      "cell_type": "code",
      "metadata": {
        "id": "iAwFGOVBXFIp"
      },
      "source": [
        "rdog = randfunc(0.1, 4, lambda x: 1/(x+1))"
      ],
      "execution_count": null,
      "outputs": []
    },
    {
      "cell_type": "code",
      "metadata": {
        "id": "BS-N-n_EXMUX"
      },
      "source": [
        "import matplotlib.pyplot as plt\n"
      ],
      "execution_count": null,
      "outputs": []
    },
    {
      "cell_type": "code",
      "metadata": {
        "id": "R_7eR1yrXye9"
      },
      "source": [
        "def rknot(stepnum, ll, decayfunc):\n",
        "  xvals = randfunc(stepnum, ll, decayfunc)\n",
        "  yvals = randfunc(stepnum, ll, decayfunc)\n",
        "  zvals = randfunc(stepnum, ll, decayfunc)\n",
        "  return np.vstack((xvals, yvals, zvals)).T"
      ],
      "execution_count": null,
      "outputs": []
    },
    {
      "cell_type": "code",
      "metadata": {
        "id": "V-D9WUh6X4Nh"
      },
      "source": [
        "dogk= rknot(0.1, 20, lambda x: x)"
      ],
      "execution_count": null,
      "outputs": []
    },
    {
      "cell_type": "code",
      "metadata": {
        "colab": {
          "base_uri": "https://localhost:8080/"
        },
        "id": "-5ttRY-s0TKp",
        "outputId": "b40feebb-cba4-4e46-8a57-dcae87ab2b9b"
      },
      "source": [
        "dogk"
      ],
      "execution_count": null,
      "outputs": [
        {
          "output_type": "execute_result",
          "data": {
            "text/plain": [
              "array([[ 1.44382758e+01,  1.87099537e+01,  5.57639185e+00],\n",
              "       [ 1.43866289e+01,  1.54603081e+01,  4.65472523e+01],\n",
              "       [ 7.10231652e-01, -5.71844452e+01, -2.74311388e+00],\n",
              "       [-9.36847707e+00, -1.93490656e+01, -4.33391842e+01],\n",
              "       [-1.90500419e+01,  7.34813547e+01, -1.00777877e+01],\n",
              "       [ 2.74425317e+01,  2.25110319e+01,  3.02871170e+01],\n",
              "       [ 3.19103721e+01, -5.68769774e+01,  3.72585532e+01],\n",
              "       [-5.47757817e+01, -8.86084628e-01, -1.15551123e+01],\n",
              "       [-2.60420142e+01,  2.24129136e+01, -7.21598326e+01],\n",
              "       [ 1.00523582e+02, -7.41866116e+01, -2.02794202e+01],\n",
              "       [ 4.48766401e+01, -6.91171548e+01,  7.19105223e+01],\n",
              "       [-8.69737629e+01,  5.47041956e+01,  2.04340208e+01],\n",
              "       [-2.46929741e+01,  6.02141354e+01, -5.37890713e+01],\n",
              "       [ 3.68487627e+01, -1.61870658e+01,  1.97991860e+01],\n",
              "       [-6.67734866e+01,  9.57179392e+00,  5.76347014e+01],\n",
              "       [-5.16321712e+01,  3.04480001e+01, -4.51612369e+01],\n",
              "       [ 9.97809449e+01, -5.56882661e+01, -6.69696628e+01],\n",
              "       [ 4.40793352e+01, -5.66246900e+01,  8.60760917e+00],\n",
              "       [-1.09321232e+02,  7.38214851e+01, -1.38259369e+01],\n",
              "       [-2.81798298e+01,  9.06956456e+01, -4.57308389e+01],\n",
              "       [ 9.08539080e+01, -3.01232758e+01,  3.96018205e+01],\n",
              "       [-1.45377508e+00, -5.56326226e+01,  6.18394471e+01],\n",
              "       [-5.85051494e+01,  1.86797312e+01, -4.16898810e+01],\n",
              "       [ 5.14638198e+01,  1.33655526e+01, -6.02329605e+01],\n",
              "       [ 6.58543437e+01, -4.32792516e+01,  2.65571197e+01],\n",
              "       [-4.21094523e+01, -1.67350032e+01,  4.58359464e+01],\n",
              "       [-3.29894254e+01,  4.39838146e+01, -2.07355601e+00],\n",
              "       [ 4.49561400e+01,  2.18497146e+01, -6.27234597e+00],\n",
              "       [ 6.36145941e+00, -5.16560650e+01,  4.08242998e+01],\n",
              "       [-4.86478122e+01, -6.60670930e+01,  5.78320336e+01],\n",
              "       [ 4.97845141e+00,  7.51902790e-02, -1.34409301e+01],\n",
              "       [ 3.28990110e+01,  6.01779536e+01, -7.47066170e+01],\n",
              "       [-3.45755347e+01,  4.45029707e+01, -3.22990248e-01],\n",
              "       [-3.41830535e+01, -9.25572750e-01,  5.56686640e+01],\n",
              "       [ 5.65108843e+01, -4.10179832e+00, -5.91888536e+01],\n",
              "       [ 4.22882515e+01,  6.19387637e+00, -8.80948701e+01],\n",
              "       [-6.27449560e+01, -1.24910575e+01,  9.87973357e+01],\n",
              "       [-4.42920166e+01, -1.13184246e+01,  1.29511820e+02],\n",
              "       [ 4.40027492e+01,  2.56381786e+01, -7.06709092e+01],\n",
              "       [ 3.47758761e+00,  1.75072267e+01, -8.07421979e+01],\n",
              "       [-4.48911807e+01, -3.73118121e+01,  6.88843322e+01],\n",
              "       [ 5.21161731e+01, -3.73324359e+01, -3.84930020e+00],\n",
              "       [ 8.28520145e+01,  1.20812020e+01, -1.15010111e+02],\n",
              "       [-5.41970126e+01,  1.38809423e+01,  4.02774030e+01],\n",
              "       [-9.00761324e+01, -1.06121218e+01,  1.50163734e+02],\n",
              "       [ 9.21552776e+00,  1.81357533e+01, -1.04760124e+01],\n",
              "       [-3.38192855e+00,  5.18819080e+01, -1.07390410e+02],\n",
              "       [-4.82447877e+01,  1.46285956e+01, -2.92745963e+00],\n",
              "       [ 4.69154711e+01, -4.74191738e+01,  5.59278960e+01],\n",
              "       [ 7.44054166e+01, -6.71227886e+01,  1.84803265e+01],\n",
              "       [-4.59895683e+01, -3.86443580e+01, -1.68835163e+01],\n",
              "       [-3.41572400e+01,  3.47408320e+01, -6.19751159e+01],\n",
              "       [ 8.27251847e+01,  9.24909475e+01, -6.72387895e+01],\n",
              "       [ 3.42206159e+01,  2.71606882e+01,  7.86508265e+00],\n",
              "       [-5.03472714e+01, -9.26415758e+01,  4.24473656e+01],\n",
              "       [ 6.74004103e+00, -7.02279005e+01,  2.81272000e+01],\n",
              "       [ 4.66413447e+00,  4.74629950e+01,  6.04543067e+01],\n",
              "       [-7.46453770e+01,  4.28813831e+01,  4.01217859e+01],\n",
              "       [ 1.72752559e+01, -3.57699017e+01, -7.53254408e+01],\n",
              "       [ 1.42664933e+02, -9.95462985e-01, -7.97027628e+01],\n",
              "       [ 3.26980190e+01,  6.21958444e+01,  3.22874461e+01],\n",
              "       [-1.08353205e+02,  1.44810746e+01,  3.91642739e+01],\n",
              "       [-5.61826646e+01, -2.04800282e+01, -1.81802513e+01]])"
            ]
          },
          "metadata": {
            "tags": []
          },
          "execution_count": 15
        }
      ]
    },
    {
      "cell_type": "code",
      "metadata": {
        "id": "-CpKUlHj0X3i"
      },
      "source": [
        "import matplotlib.pyplot as plt"
      ],
      "execution_count": null,
      "outputs": []
    },
    {
      "cell_type": "code",
      "metadata": {
        "id": "CH115Kzaggkf"
      },
      "source": [
        "dogk = np. vstack([np.array([ 35.46863002,  91.5681188 , -13.891288  ]),\n",
        " np.array([-104.13666323,   16.17009024,    5.384612  ]),\n",
        " np.array([ 70.80366358, -87.97930647,   5.384612  ]),\n",
        " np.array([ 53.98683132,  67.08302562, -13.891288  ]),\n",
        " np.array([-87.8186563 , -13.63626943,   8.506676  ]),\n",
        " np.array([  39.19228214, -101.18134095,    8.506676  ])])"
      ],
      "execution_count": null,
      "outputs": []
    },
    {
      "cell_type": "code",
      "metadata": {
        "colab": {
          "base_uri": "https://localhost:8080/",
          "height": 265
        },
        "id": "Cp9KJux80egV",
        "outputId": "9f15eb02-6ace-440a-90e5-7f30c2b48715"
      },
      "source": [
        "ax = plt.figure().add_subplot(projection='3d')\n",
        "ax.plot(dogk[:, 0], dogk[:, 1], dogk[:,2])"
      ],
      "execution_count": null,
      "outputs": [
        {
          "output_type": "execute_result",
          "data": {
            "text/plain": [
              "[<mpl_toolkits.mplot3d.art3d.Line3D at 0x7f1dae1de610>]"
            ]
          },
          "metadata": {
            "tags": []
          },
          "execution_count": 20
        },
        {
          "output_type": "display_data",
          "data": {
            "image/png": "[encoded data removed]",
            "text/plain": [
              "<Figure size 432x288 with 1 Axes>"
            ]
          },
          "metadata": {
            "tags": [],
            "needs_background": "light"
          }
        }
      ]
    },
    {
      "cell_type": "code",
      "metadata": {
        "id": "IISQDkEgZZto"
      },
      "source": [
        "dogk[:, 0]"
      ],
      "execution_count": null,
      "outputs": []
    },
    {
      "cell_type": "code",
      "metadata": {
        "id": "bVBrLRMuZaYL"
      },
      "source": [
        "foo = PLCurve(dogk, isClosed=True)"
      ],
      "execution_count": null,
      "outputs": []
    },
    {
      "cell_type": "code",
      "metadata": {
        "id": "ZMy3xi7qaTYL"
      },
      "source": [
        "newlink = Link([foo])"
      ],
      "execution_count": null,
      "outputs": []
    },
    {
      "cell_type": "code",
      "metadata": {
        "colab": {
          "base_uri": "https://localhost:8080/"
        },
        "id": "tGukp9v73qqk",
        "outputId": "3d6d1de1-6bdd-4bd6-fd00-8f3acfe51773"
      },
      "source": [
        "newlink.DTcode"
      ],
      "execution_count": null,
      "outputs": [
        {
          "output_type": "execute_result",
          "data": {
            "text/plain": [
              "[-4, -6, -2]"
            ]
          },
          "metadata": {
            "tags": []
          },
          "execution_count": 23
        }
      ]
    },
    {
      "cell_type": "code",
      "metadata": {
        "id": "zgGPrD3LEdJt"
      },
      "source": [
        "print('Link(\\\"DT')"
      ],
      "execution_count": null,
      "outputs": []
    },
    {
      "cell_type": "code",
      "metadata": {
        "id": "DvYU1av_Mmgy"
      },
      "source": [
        "def snaplink(l):\n",
        "  relist = [tuple(l)]\n",
        "  return 'Link(\\\"DT: ' + str(relist) + '\\\")'"
      ],
      "execution_count": null,
      "outputs": []
    },
    {
      "cell_type": "code",
      "metadata": {
        "colab": {
          "base_uri": "https://localhost:8080/",
          "height": 35
        },
        "id": "sTlgIkSAnk0L",
        "outputId": "d6b1bc6b-d510-42cc-88d8-c651f8c2f566"
      },
      "source": [
        "snaplink(newlink.DTcode)"
      ],
      "execution_count": null,
      "outputs": [
        {
          "output_type": "execute_result",
          "data": {
            "application/vnd.google.colaboratory.intrinsic+json": {
              "type": "string"
            },
            "text/plain": [
              "'Link(\"DT: [(-4, -6, -2)]\")'"
            ]
          },
          "metadata": {
            "tags": []
          },
          "execution_count": 25
        }
      ]
    },
    {
      "cell_type": "code",
      "metadata": {
        "id": "4UbpYuJFnoCL"
      },
      "source": [
        "def rank_simple(vector ):\n",
        "    return sorted(range(len(vector)), key=vector.__getitem__)"
      ],
      "execution_count": null,
      "outputs": []
    },
    {
      "cell_type": "code",
      "metadata": {
        "id": "MpuVPMKk4PIm"
      },
      "source": [
        "def rank_vecs(v0, r, s, t):\n",
        "  v0c = complex(v0[0], v0[1])\n",
        "  rc = complex(r[0], r[1])\n",
        "  sc = complex(s[0], s[1])\n",
        "  tc = complex(t[0], t[1])\n",
        "  pr = cmath.phase(rc/v0c)\n",
        "  ps = cmath.phase(sc/v0c)\n",
        "  pt = cmath.phase(tc/v0c)\n",
        "  if pr < 0:\n",
        "    pr = 2 * np.pi + pr\n",
        "  if ps < 0:\n",
        "    ps = 2 * np.pi + ps\n",
        "  if pt < 0:\n",
        "    pt = 2 * np.pi + pt\n",
        "  theranks0 = rank_simple([pr, ps, pt])\n",
        "  return [1+x for x in theranks0]\n",
        "\n",
        "\n"
      ],
      "execution_count": null,
      "outputs": []
    },
    {
      "cell_type": "code",
      "metadata": {
        "id": "bRdW0B6k6QnI"
      },
      "source": [
        "!pip install pyknotid"
      ],
      "execution_count": null,
      "outputs": []
    },
    {
      "cell_type": "code",
      "metadata": {
        "id": "euTEJC5R2t9F"
      },
      "source": [
        "from pyknotid.spacecurves import Knot"
      ],
      "execution_count": null,
      "outputs": []
    },
    {
      "cell_type": "code",
      "metadata": {
        "id": "QY4iy8Do3KD7"
      },
      "source": [
        "foo = Knot(dogk)"
      ],
      "execution_count": null,
      "outputs": []
    },
    {
      "cell_type": "code",
      "metadata": {
        "id": "OU73ZOnw3Mp4"
      },
      "source": [
        "from pyknotid.invariants import *"
      ],
      "execution_count": null,
      "outputs": []
    },
    {
      "cell_type": "code",
      "metadata": {
        "id": "yDeYqtkr3kPr"
      },
      "source": [
        "foo.alexander_polynomial()"
      ],
      "execution_count": null,
      "outputs": []
    },
    {
      "cell_type": "code",
      "metadata": {
        "id": "rHzFklXp5y1g"
      },
      "source": [
        "!pip install PyQt5"
      ],
      "execution_count": null,
      "outputs": []
    },
    {
      "cell_type": "code",
      "metadata": {
        "id": "BK7plhIU55dy"
      },
      "source": [
        ""
      ],
      "execution_count": null,
      "outputs": []
    }
  ]
}